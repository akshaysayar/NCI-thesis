{
 "cells": [
  {
   "cell_type": "code",
   "execution_count": 2,
   "id": "dfffd627",
   "metadata": {},
   "outputs": [],
   "source": [
    "import pandas as pd\n",
    "import dlib, cv2, numpy as np,time\n",
    "import os\n",
    "from tqdm import tqdm"
   ]
  },
  {
   "cell_type": "code",
   "execution_count": null,
   "id": "91fb406e",
   "metadata": {},
   "outputs": [
    {
     "name": "stderr",
     "output_type": "stream",
     "text": [
      "\r",
      "  0%|                                                                                            | 0/1 [00:00<?, ?it/s]"
     ]
    }
   ],
   "source": [
    "detector = dlib.get_frontal_face_detector()\n",
    "\n",
    "predictor = dlib.shape_predictor(r\"X:\\\\Python_projects\\\\Eye tracking\\\\shape_predictor_68_face_landmarks.dat\")\n",
    "\n",
    "for j in tqdm(os.listdir(\"X:\\\\Eye_tracking_Processed_Raw_videos\\\\screen_og_1\\\\\")):\n",
    "    if \"Kunal\" not in str(j):\n",
    "        cap = cv2.VideoCapture(\"X:\\\\Eye_tracking_Processed_Raw_videos\\\\screen_og_1\\\\\"+j)\n",
    "        length = int(cap.get(cv2.CAP_PROP_FRAME_COUNT))\n",
    "        #print(length)\n",
    "        c=0\n",
    "        final = []\n",
    "        while True:\n",
    "            try:\n",
    "                s1 = time.time()\n",
    "                c+=1\n",
    "                land_mark = []\n",
    "                ret, image = cap.read()\n",
    "                # print(\"--------------\",c)\n",
    "\n",
    "                # Capture the image from the webcam\n",
    "                #print(\"\\n\\n##################\",c)\n",
    "\n",
    "                # Convert the image color to grayscale\n",
    "                gray = cv2.cvtColor(image, cv2.COLOR_BGR2GRAY)\n",
    "                # Detect the face\n",
    "                s = time.time()\n",
    "                rects = detector(gray, 1)\n",
    "                #print(\"time taken - \",time.time()-s)\n",
    "                # Detect landmarks for each face\n",
    "                if rects:\n",
    "                    for rect in rects:\n",
    "                        # Get the landmark points\n",
    "                        shape = predictor(gray, rect)\n",
    "                    # Convert it to the NumPy Array\n",
    "                        shape_np = np.zeros((68, 2), dtype=\"int\")\n",
    "                        for i in range(0, 68):\n",
    "                            shape_np[i] = (shape.part(i).x, shape.part(i).y)\n",
    "                        shape = shape_np\n",
    "\n",
    "                        land_mark.append(shape[0])\n",
    "                        land_mark.append(shape[8])\n",
    "                        land_mark.append(shape[16])\n",
    "                        land_mark.append(shape[36])\n",
    "                        land_mark.append(shape[39])\n",
    "                        land_mark.append(shape[42])\n",
    "                        land_mark.append(shape[45])\n",
    "\n",
    "                        # Display the landmarks\n",
    "                        # for i, (x, y) in enumerate(shape):\n",
    "                        # # Draw the circle to mark the keypoint \n",
    "                        #     if i in [36,39,42,45,0,16,8]:\n",
    "                        #         land_mark.append([x,y])\n",
    "                        #         cv2.circle(image, (x, y), 1, (0, 0, 255), -1)\n",
    "                        final.append(land_mark)\n",
    "                else:\n",
    "                    for i in range(7):\n",
    "                        land_mark.append([0,0])\n",
    "                    final.append(land_mark)\n",
    "\n",
    "            except:\n",
    "                break            \n",
    "                # Display the image\n",
    "                # cv2.imshow('Landmark Detection', image)\n",
    "\n",
    "                # Press the escape button to terminate the code\n",
    "                if cv2.waitKey(10) == 27:\n",
    "                    break\n",
    "                #print(\"time for one frame  is - \",time.time()-s1)\n",
    "        #print(len(final))\n",
    "        tt=0\n",
    "        for n,i in enumerate(final):\n",
    "            if len(i)!=7:\n",
    "                tt+=1\n",
    "                final[n] = [[0,0],[0,0],[0,0],[0,0],[0,0],[0,0],[0,0]]\n",
    "        df = pd.DataFrame(final,columns = ['left','bottom','right','left_eye_l','left_eye_r','right_eye_l','right_eye_r'])\n",
    "        df.to_csv(\"X:\\\\Eye_tracking_Processed_Raw_videos\\\\screen_og_1\\\\\"+ os.path.splitext(j)[0].split(\"-\")[0]+\".csv\",index=False)\n",
    "        cap.release()"
   ]
  },
  {
   "cell_type": "code",
   "execution_count": null,
   "id": "97970ff4",
   "metadata": {},
   "outputs": [],
   "source": []
  }
 ],
 "metadata": {
  "kernelspec": {
   "display_name": "Python 3",
   "language": "python",
   "name": "python3"
  },
  "language_info": {
   "codemirror_mode": {
    "name": "ipython",
    "version": 3
   },
   "file_extension": ".py",
   "mimetype": "text/x-python",
   "name": "python",
   "nbconvert_exporter": "python",
   "pygments_lexer": "ipython3",
   "version": "3.8.8"
  }
 },
 "nbformat": 4,
 "nbformat_minor": 5
}
